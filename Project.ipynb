{
 "cells": [
  {
   "cell_type": "markdown",
   "metadata": {},
   "source": [
    "##### Package imports"
   ]
  },
  {
   "cell_type": "code",
   "execution_count": 1,
   "metadata": {},
   "outputs": [],
   "source": [
    "import xarray as xr\n",
    "import numpy as np\n",
    "import pandas as pd\n",
    "\n",
    "from sklearn.cluster import KMeans\n",
    "from sklearn.decomposition import PCA\n",
    "from typing import Tuple\n",
    "# key definitions are in a separte file\n",
    "#from WeatherTyping import loop_kmeans, get_number_eof, get_classifiability_index\n",
    "\n",
    "import cartopy.crs as ccrs\n",
    "from cartopy import feature\n",
    "import matplotlib.pyplot as plt\n",
    "from matplotlib.colors import LinearSegmentedColormap"
   ]
  },
  {
   "cell_type": "markdown",
   "metadata": {},
   "source": [
    "##### Create the necessary directories"
   ]
  },
  {
   "cell_type": "code",
   "execution_count": 2,
   "metadata": {},
   "outputs": [],
   "source": [
    "!mkdir -p data"
   ]
  },
  {
   "cell_type": "markdown",
   "metadata": {},
   "source": [
    "##### Download Data\n",
    "Go on the given URLs for model and reanalysis data:\n",
    "model_url_Oct3rd_2019=https://iridl.ldeo.columbia.edu/SOURCES/.ECMWF/.S2S/.ECMF/.reforecast/.perturbed/.pressure_level_gh/.gh/P/500/VALUE/P/removeGRID/S/(3%20Oct%202019)/VALUE/X/(-170)/(-30)/RANGE/Y/(20)/(80)/RANGE/hdate/(1999)/(2018)/RANGE/L/5/runningAverage/dup/%5Bhdate/M%5D/average/sub/S/removeGRID/data.nc\n",
    "model_url_Dec5th_2019=https://iridl.ldeo.columbia.edu/SOURCES/.ECMWF/.S2S/.ECMF/.reforecast/.perturbed/.pressure_level_gh/.gh/P/500/VALUE/P/removeGRID/S/(5%20Dec%202019)/VALUE/X/(-170)/(-30)/RANGE/Y/(20)/(80)/RANGE/hdate/(1999)/(2018)/RANGE/L/5/runningAverage/dup/%5Bhdate/M%5D/average/sub/S/removeGRID/data.nc\n",
    "reanalysis_url_Oct3rd_2019=https://iridl.ldeo.columbia.edu/auth/login?ver=1&redirect=%2FSOURCES%2F.ECMWF%2F.S2S%2F.ECMF%2F.reforecast%2F.perturbed%2F.pressure_level_gh%2F.gh%2FP%2F500%2FVALUE%2FP%2FremoveGRID%2FS%2F%283%20Oct%202019%29%2FVALUE%2FX%2F%28-170%29%2F%28-30%29%2FRANGE%2FY%2F%2820%29%2F%2880%29%2FRANGE%2Fhdate%2F%281999%29%2F%282018%29%2FRANGE%2Fhdate%2F%2Fpointwidth%2F0%2Fdef%2F-6%2FshiftGRID%2Fhdate%2F%28days%20since%201960-01-01%29%2Fstreamgridunitconvert%2FS%2F%28days%20since%202018-01-01%29%2Fstreamgridunitconvert%2FS%2F%2Funits%2F%2Fdays%2Fdef%2FL%2F0.5%2Fadd%2Fhdate%2Fadd%2Fadd%2F%2Fpointwidth%2F1%2Fdef%2FSOURCES%2F.ECMWF%2F.ERA-Interim%2F.SIX-HOURLY%2F.pressure_level%2F.z500%2FT%2F3%2FshiftGRID%2FT%2F24%2FboxAverage%2FT%2F2%2Findex%2F.units%2Fstreamgridunitconvert%2Fexch%2F%5BT%5Dsample-along%2Fc%3A%2F9.81%2F%28m%20s-2%29%2F%3Ac%2Fdiv%2FS%2FremoveGRID%2FL%2F5%2FrunningAverage%2F%5BX%2FY%5D%2F1.0%2F0.%2FregridLinear%2Fdup%2F%5Bhdate%5Daverage%2F2%2FRECHUNK%2Fsub%2Fdata.nc&realm=iri.columbia.edu%2Fterms%2Fs2s%2F1\n",
    "reanalysis_url_Dec5th_2019=https://iridl.ldeo.columbia.edu/auth/login?ver=1&redirect=%2FSOURCES%2F.ECMWF%2F.S2S%2F.ECMF%2F.reforecast%2F.perturbed%2F.pressure_level_gh%2F.gh%2FP%2F500%2FVALUE%2FP%2FremoveGRID%2FS%2F%285%20Dec%202019%29%2FVALUE%2FX%2F%28-170%29%2F%28-30%29%2FRANGE%2FY%2F%2820%29%2F%2880%29%2FRANGE%2Fhdate%2F%281999%29%2F%282018%29%2FRANGE%2Fhdate%2F%2Fpointwidth%2F0%2Fdef%2F-6%2FshiftGRID%2Fhdate%2F%28days%20since%201960-01-01%29%2Fstreamgridunitconvert%2FS%2F%28days%20since%202018-01-01%29%2Fstreamgridunitconvert%2FS%2F%2Funits%2F%2Fdays%2Fdef%2FL%2F0.5%2Fadd%2Fhdate%2Fadd%2Fadd%2F%2Fpointwidth%2F1%2Fdef%2FSOURCES%2F.ECMWF%2F.ERA-Interim%2F.SIX-HOURLY%2F.pressure_level%2F.z500%2FT%2F3%2FshiftGRID%2FT%2F24%2FboxAverage%2FT%2F2%2Findex%2F.units%2Fstreamgridunitconvert%2Fexch%2F%5BT%5Dsample-along%2Fc%3A%2F9.81%2F%28m%20s-2%29%2F%3Ac%2Fdiv%2FS%2FremoveGRID%2FL%2F5%2FrunningAverage%2F%5BX%2FY%5D%2F1.0%2F0.%2FregridLinear%2Fdup%2F%5Bhdate%5Daverage%2F2%2FRECHUNK%2Fsub%2Fdata.nc&realm=iri.columbia.edu%2Fterms%2Fs2s%2F1\n",
    "\n",
    "Follow instructions for a double login.\n",
    "\n",
    "Login IRI username: pr2616@columbia.edu \n",
    "\n",
    "Login IRI password: Patric1234\n",
    "\n",
    "Save the data into the folder with name 'data' which we created just above.\n",
    "\n"
   ]
  },
  {
   "cell_type": "code",
   "execution_count": 3,
   "metadata": {},
   "outputs": [
    {
     "name": "stdout",
     "output_type": "stream",
     "text": [
      "--2019-12-06 18:24:16--  https://ndownloader.figshare.com/files/20088032\n",
      "Resolving ndownloader.figshare.com (ndownloader.figshare.com)... 34.247.112.97, 52.50.27.164, 52.17.93.139, ...\n",
      "Connecting to ndownloader.figshare.com (ndownloader.figshare.com)|34.247.112.97|:443... connected.\n",
      "HTTP request sent, awaiting response... 302 Found\n",
      "Location: https://s3-eu-west-1.amazonaws.com/pfigshare-u-files/20088032/model_5_Dec_2019.nc [following]\n",
      "--2019-12-06 18:24:17--  https://s3-eu-west-1.amazonaws.com/pfigshare-u-files/20088032/model_5_Dec_2019.nc\n",
      "Resolving s3-eu-west-1.amazonaws.com (s3-eu-west-1.amazonaws.com)... 52.218.97.235\n",
      "Connecting to s3-eu-west-1.amazonaws.com (s3-eu-west-1.amazonaws.com)|52.218.97.235|:443... connected.\n",
      "HTTP request sent, awaiting response... 200 OK\n",
      "Length: 274514636 (262M) [application/x-netcdf]\n",
      "Saving to: ‘model_5_Dec_2019.nc’\n",
      "\n",
      "model_5_Dec_2019.nc 100%[===================>] 261.80M  18.6MB/s    in 12s     \n",
      "\n",
      "2019-12-06 18:24:29 (22.4 MB/s) - ‘model_5_Dec_2019.nc’ saved [274514636/274514636]\n",
      "\n",
      "--2019-12-06 18:24:30--  https://ndownloader.figshare.com/files/20088041\n",
      "Resolving ndownloader.figshare.com (ndownloader.figshare.com)... 52.211.23.240, 34.246.143.116, 34.254.17.104, ...\n",
      "Connecting to ndownloader.figshare.com (ndownloader.figshare.com)|52.211.23.240|:443... connected.\n",
      "HTTP request sent, awaiting response... 302 Found\n",
      "Location: https://s3-eu-west-1.amazonaws.com/pfigshare-u-files/20088041/reanalysis_5_Dec_2019.nc [following]\n",
      "--2019-12-06 18:24:30--  https://s3-eu-west-1.amazonaws.com/pfigshare-u-files/20088041/reanalysis_5_Dec_2019.nc\n",
      "Resolving s3-eu-west-1.amazonaws.com (s3-eu-west-1.amazonaws.com)... 52.218.105.194\n",
      "Connecting to s3-eu-west-1.amazonaws.com (s3-eu-west-1.amazonaws.com)|52.218.105.194|:443... connected.\n",
      "HTTP request sent, awaiting response... 200 OK\n",
      "Length: 27453604 (26M) [application/x-netcdf]\n",
      "Saving to: ‘reanalysis_5_Dec_2019.nc’\n",
      "\n",
      "reanalysis_5_Dec_20 100%[===================>]  26.18M  16.8MB/s    in 1.6s    \n",
      "\n",
      "2019-12-06 18:24:32 (16.8 MB/s) - ‘reanalysis_5_Dec_2019.nc’ saved [27453604/27453604]\n",
      "\n"
     ]
    }
   ],
   "source": [
    "#!wget https://ndownloader.figshare.com/articles/11328380/versions/1\n",
    "#!wget -O model_3_Oct_2019.nc https://ndownloader.figshare.com/files/20088029\n",
    "#!wget -O reanalysis_3_Oct_2019.nc https://ndownloader.figshare.com/files/20088038\n",
    "!wget -O model_5_Dec_2019.nc https://ndownloader.figshare.com/files/20088032\n",
    "!wget -O reanalysis_5_Dec_2019.nc https://ndownloader.figshare.com/files/20088041"
   ]
  },
  {
   "cell_type": "code",
   "execution_count": 4,
   "metadata": {},
   "outputs": [],
   "source": [
    "\n",
    "##input date here (has to be monday and thursday)\n",
    "date = '26%20Apr%202018'\n",
    "#def updatedate\n"
   ]
  },
  {
   "cell_type": "code",
   "execution_count": 5,
   "metadata": {},
   "outputs": [
    {
     "data": {
      "text/plain": [
       "<xarray.Dataset>\n",
       "Dimensions:  (M: 10, grid: 3990, time: 860)\n",
       "Coordinates:\n",
       "  * M        (M) float32 1.0 2.0 3.0 4.0 5.0 6.0 7.0 8.0 9.0 10.0\n",
       "  * time     (time) MultiIndex\n",
       "  - hdate    (time) float64 474.0 474.0 474.0 474.0 ... 702.0 702.0 702.0 702.0\n",
       "  - L        (time) float64 2.0 3.0 4.0 5.0 6.0 7.0 ... 40.0 41.0 42.0 43.0 44.0\n",
       "  * grid     (grid) MultiIndex\n",
       "  - X        (grid) float64 -171.0 -171.0 -171.0 -171.0 ... -30.0 -30.0 -30.0\n",
       "  - Y        (grid) float64 19.5 21.0 22.5 24.0 25.5 ... 76.5 78.0 79.5 81.0\n",
       "Data variables:\n",
       "    gh       (M, time, grid) float64 -15.17 -2.89 10.47 ... -60.08 -74.29 -77.47"
      ]
     },
     "execution_count": 5,
     "metadata": {},
     "output_type": "execute_result"
    }
   ],
   "source": [
    "ds = xr.open_dataset('model_5_Dec_2019.nc', decode_times=False)\n",
    "model = ds.stack(time=['hdate', 'L'], grid=['X', 'Y'])\n",
    "model"
   ]
  },
  {
   "cell_type": "code",
   "execution_count": 6,
   "metadata": {},
   "outputs": [
    {
     "data": {
      "text/plain": [
       "<xarray.Dataset>\n",
       "Dimensions:  (grid: 3990, time: 860)\n",
       "Coordinates:\n",
       "  * time     (time) MultiIndex\n",
       "  - hdate    (time) float64 1.424e+04 1.424e+04 ... 2.118e+04 2.118e+04\n",
       "  - L        (time) float64 2.0 3.0 4.0 5.0 6.0 7.0 ... 40.0 41.0 42.0 43.0 44.0\n",
       "  * grid     (grid) MultiIndex\n",
       "  - X        (grid) float64 -171.0 -171.0 -171.0 -171.0 ... -30.0 -30.0 -30.0\n",
       "  - Y        (grid) float64 19.5 21.0 22.5 24.0 25.5 ... 76.5 78.0 79.5 81.0\n",
       "Data variables:\n",
       "    ratio    (time, grid) float64 13.85 17.39 19.87 21.4 ... 5.017 -1.866 -9.799"
      ]
     },
     "execution_count": 6,
     "metadata": {},
     "output_type": "execute_result"
    }
   ],
   "source": [
    "reanalysis = xr.open_dataset('reanalysis_5_Dec_2019.nc', decode_times=False)\n",
    "reanalysis = reanalysis.stack(time=['hdate', 'L'], grid=['X', 'Y'])\n",
    "reanalysis"
   ]
  },
  {
   "cell_type": "markdown",
   "metadata": {},
   "source": [
    "## Exploratory Analysis"
   ]
  },
  {
   "cell_type": "code",
   "execution_count": 7,
   "metadata": {},
   "outputs": [
    {
     "data": {
      "text/plain": [
       "(860,)"
      ]
     },
     "execution_count": 7,
     "metadata": {},
     "output_type": "execute_result"
    }
   ],
   "source": [
    "reanalysis['ratio']\n",
    "x=reanalysis['ratio'].X\n",
    "y=reanalysis['ratio'].Y\n",
    "time = reanalysis['ratio'].time\n",
    "x.shape\n",
    "y.shape\n",
    "time.shape"
   ]
  },
  {
   "cell_type": "markdown",
   "metadata": {},
   "source": [
    "## Reducing Dimensions"
   ]
  },
  {
   "cell_type": "markdown",
   "metadata": {},
   "source": [
    "In the following, we will reduce our datasize which is strongly spacially corrolated to just a few EOFs. \n",
    "The number of EOFs can be chosen based on how much variance of the data we want to explain with our EOFs. \n"
   ]
  },
  {
   "cell_type": "code",
   "execution_count": 8,
   "metadata": {},
   "outputs": [],
   "source": [
    "#PCA?"
   ]
  },
  {
   "cell_type": "code",
   "execution_count": 32,
   "metadata": {},
   "outputs": [],
   "source": [
    "def get_number_eof(X: np.ndarray, var_to_explain: float, plot=False) -> int:\n",
    "    assert var_to_explain > 0\n",
    "    assert var_to_explain < 1\n",
    "    pca = PCA().fit(X)\n",
    "    var_explained = pca.explained_variance_ratio_\n",
    "    cum_var = var_explained.cumsum()\n",
    "    n_eof = np.where(cum_var > var_to_explain)[0].min() + 1\n",
    "    \n",
    "    if plot:\n",
    "        n_padding = 4\n",
    "        plt.figure(figsize=(12, 7))\n",
    "        plt.plot(np.arange(1, n_eof + 1 + n_padding), cum_var[0:(n_padding + n_eof)])\n",
    "        plt.scatter(np.arange(1, n_eof + 1 + n_padding), cum_var[0:(n_padding + n_eof)])\n",
    "        plt.xlabel('Number of EOFs')\n",
    "        plt.ylabel('Cumulative Proportion of Variance Explained')\n",
    "        plt.grid()\n",
    "        plt.title('EOF Retained'.format(n_eof))\n",
    "        plt.show()\n",
    "    return n_eof"
   ]
  },
  {
   "cell_type": "code",
   "execution_count": 33,
   "metadata": {},
   "outputs": [
    {
     "data": {
      "text/plain": [
       "7"
      ]
     },
     "execution_count": 33,
     "metadata": {},
     "output_type": "execute_result"
    }
   ],
   "source": [
    "n_eof"
   ]
  },
  {
   "cell_type": "code",
   "execution_count": 34,
   "metadata": {},
   "outputs": [
    {
     "data": {
      "image/png": "[encoded data removed]",
      "text/plain": [
       "<Figure size 864x504 with 1 Axes>"
      ]
     },
     "metadata": {
      "needs_background": "light"
     },
     "output_type": "display_data"
    }
   ],
   "source": [
    "n_eof = get_number_eof(X=reanalysis['ratio'].values, var_to_explain=0.9, plot=True) #here, we chose to represent 90% of the variance."
   ]
  },
  {
   "cell_type": "markdown",
   "metadata": {},
   "source": [
    "Now we project the data onto the leading EOFs to get the principal component time series.\n",
    "We will retain the PCA model for use later.\n",
    "The `reanalysis_pc` variable is now indexed [`time`, `EOF`]."
   ]
  },
  {
   "cell_type": "code",
   "execution_count": null,
   "metadata": {},
   "outputs": [],
   "source": [
    "pca_model = PCA(n_components=n_eof).fit(reanalysis['ratio'].values)\n",
    "reanalysis_pc = pca_model.transform(reanalysis['ratio'].values)"
   ]
  },
  {
   "cell_type": "markdown",
   "metadata": {},
   "source": [
    "## Reanalysis Weather Typing"
   ]
  },
  {
   "cell_type": "markdown",
   "metadata": {},
   "source": [
    "Now we perform the clustering.\n",
    "We will manually specify the number of clusters we want to create and the number of simulations we want to run."
   ]
  },
  {
   "cell_type": "code",
   "execution_count": null,
   "metadata": {},
   "outputs": [],
   "source": [
    "ncluster = 4 # use 4 WTs\n",
    "n_sim = 25"
   ]
  },
  {
   "cell_type": "markdown",
   "metadata": {},
   "source": [
    "Now we can use this to run the classifiability index on our centroids"
   ]
  },
  {
   "cell_type": "code",
   "execution_count": null,
   "metadata": {},
   "outputs": [],
   "source": [
    "def _vector_ci(P: np.ndarray, Q: np.ndarray) -> float:\n",
    "    k = P.shape[0]\n",
    "    Aij = np.ones([k, k])\n",
    "    for i in range(k):\n",
    "        for j in range(k):\n",
    "            Aij[i, j] = np.corrcoef(P[i, :], Q[j, :])[0, 1]\n",
    "    Aprime = Aij.max(axis=0)\n",
    "    ci = Aprime.min()\n",
    "    return ci"
   ]
  },
  {
   "cell_type": "code",
   "execution_count": null,
   "metadata": {},
   "outputs": [],
   "source": [
    "def get_classifiability_index(centroids: np.ndarray) -> Tuple[float, int]:\n",
    "    nsim = centroids.shape[0]\n",
    "    c_pq = np.ones([nsim, nsim])\n",
    "    for i in range(0, nsim):\n",
    "        for j in range(0, nsim):\n",
    "            if i == j:\n",
    "                c_pq[i, j] = np.nan\n",
    "            else:\n",
    "                c_pq[i, j] = _vector_ci(P=centroids[i, :, :], Q=centroids[j, :, :])\n",
    "    classifiability = np.nanmean(c_pq)\n",
    "    best_part = np.where(c_pq == np.nanmax(c_pq))[0][0]\n",
    "    return classifiability, best_part"
   ]
  },
  {
   "cell_type": "code",
   "execution_count": null,
   "metadata": {},
   "outputs": [],
   "source": [
    "def loop_kmeans(X: np.ndarray, n_cluster: int, n_sim: int) -> Tuple[np.ndarray, np.ndarray]:\n",
    "    centroids = np.zeros(shape=(n_sim, n_cluster, X.shape[1]))\n",
    "    w_types = np.zeros(shape=(n_sim, X.shape[0]))\n",
    "    for i in np.arange(n_sim):\n",
    "        km = KMeans(n_clusters=n_cluster).fit(X)\n",
    "        centroids[i, :, :] = km.cluster_centers_\n",
    "        w_types[i, :] = km.labels_\n",
    "    return centroids, w_types"
   ]
  },
  {
   "cell_type": "code",
   "execution_count": null,
   "metadata": {},
   "outputs": [],
   "source": [
    "centroids, wtypes = loop_kmeans(X=reanalysis_pc, n_cluster=ncluster, n_sim=n_sim)\n",
    "class_idx, best_part = get_classifiability_index(centroids)\n",
    "print('The classifiability index is '.format(class_idx))"
   ]
  },
  {
   "cell_type": "markdown",
   "metadata": {},
   "source": [
    "Now that we have identified a suitable partition, we can use it to keep only the corresponding centroid and set of weather type labels.\n",
    "To take advantage of the scikit-learn syntax, we then use these centroids to define a `KMeans` object."
   ]
  },
  {
   "cell_type": "code",
   "execution_count": null,
   "metadata": {},
   "outputs": [],
   "source": [
    "best_fit = KMeans(n_clusters=ncluster, init=centroids[best_part, :, :], n_init=1, max_iter=1).fit(reanalysis_pc)"
   ]
  },
  {
   "cell_type": "markdown",
   "metadata": {},
   "source": [
    "## Model Weather Types"
   ]
  },
  {
   "cell_type": "markdown",
   "metadata": {},
   "source": [
    "Now, for each ensemble member, calculate the weather types by projecting the model geopotential height anomaly fields onto the reanalysis regimes and assigning each day of the forecast to the closest centroid in terms of Euclidean distance. The model anomaly fields are first calculated by first taking 5-day running averages and then subtracting the hindcast climatology on a daily basis. The anomalies are then projected into the reanalysis EOFs, and the distances then calculated in EOF space."
   ]
  },
  {
   "cell_type": "code",
   "execution_count": null,
   "metadata": {},
   "outputs": [],
   "source": [
    "# start with reanalysis\n",
    "reanalysis_composite = reanalysis.copy()\n",
    "model_clust = best_fit.fit_predict(reanalysis_pc) # get centroids\n",
    "weather_types = xr.DataArray(\n",
    "    model_clust, \n",
    "    coords = {'time': reanalysis_composite['time']},\n",
    "    dims='time'\n",
    ")\n",
    "reanalysis_composite['WT'] = weather_types\n",
    "reanalysis_composite = reanalysis_composite.groupby('WT').mean(dim='time').unstack('grid')['ratio']\n",
    "reanalysis_composite['M'] = 0"
   ]
  },
  {
   "cell_type": "code",
   "execution_count": null,
   "metadata": {},
   "outputs": [],
   "source": [
    "wt_anomalies = [] # initialize empty list\n",
    "wt_anomalies.append(reanalysis_composite)\n",
    "# loop through each model member\n",
    "for m in model['M'].values:\n",
    "    member_data = model['gh'].sel(M=m) # get subset of data\n",
    "    member_pc_ts = pca_model.transform(member_data.values) # project leading EOFs onto reanalysis EOFs\n",
    "    member_clust = best_fit.predict(member_pc_ts) # assign to nearest cluster (computed on reanalysis)\n",
    "    member_clust = weather_types = xr.DataArray(\n",
    "        model_clust, \n",
    "        coords = {'time': model['time']},\n",
    "        dims='time'\n",
    "    )\n",
    "    member_data = member_data.unstack('grid') #\n",
    "    member_data['WT'] = member_clust\n",
    "    member_data = member_data.groupby('WT').mean(dim='time')\n",
    "    wt_anomalies.append(member_data)\n",
    "wt_anomalies = xr.concat(wt_anomalies, dim='M') # join together\n",
    "wt_anomalies['WT'] = wt_anomalies['WT'] + 1 # start from 1"
   ]
  },
  {
   "cell_type": "code",
   "execution_count": null,
   "metadata": {},
   "outputs": [],
   "source": [
    "plt.rcParams.update({'font.size': 22})\n",
    "\n",
    "p = wt_anomalies.plot.contourf(\n",
    "    x='X', y='Y', col='WT', row='M',\n",
    "    transform=ccrs.PlateCarree(),\n",
    "    subplot_kws={\n",
    "        'projection': ccrs.Orthographic(-100, 0)\n",
    "    },\n",
    "    figsize=(26, 26),\n",
    "    levels = np.linspace(-100, 100, 21),\n",
    "    cmap=plt.cm.bwr,\n",
    "    extend='both'\n",
    ")\n",
    "\n",
    "xmin,xmax = wt_anomalies['X'].min(), wt_anomalies['X'].max()\n",
    "ymin,ymax = wt_anomalies['Y'].min(), wt_anomalies['Y'].max()\n",
    "for ax in p.axes.flat:\n",
    "    ax.coastlines()\n",
    "    ax.add_feature(feature.BORDERS)\n",
    "    ax.set_extent([xmin, xmax, ymin, ymax])\n",
    "\n",
    "plt.show()"
   ]
  },
  {
   "cell_type": "code",
   "execution_count": null,
   "metadata": {},
   "outputs": [],
   "source": [
    "from IPython.display import Image\n",
    "Image(filename=\"WRs_MERRA_LP.png\",width=600,height=600)"
   ]
  },
  {
   "cell_type": "markdown",
   "metadata": {},
   "source": [
    "Vigaud, Nicolas, Andrew W. Robertson, and Michael K. Tippett. \"Predictability of recurrent weather regimes over North America during winter from submonthly reforecasts.\" Monthly Weather Review 146.8 (2018): 2559-2577."
   ]
  },
  {
   "cell_type": "markdown",
   "metadata": {},
   "source": []
  }
 ],
 "metadata": {
  "kernelspec": {
   "display_name": "Python 3",
   "language": "python",
   "name": "python3"
  },
  "language_info": {
   "codemirror_mode": {
    "name": "ipython",
    "version": 3
   },
   "file_extension": ".py",
   "mimetype": "text/x-python",
   "name": "python",
   "nbconvert_exporter": "python",
   "pygments_lexer": "ipython3",
   "version": "3.7.3"
  }
 },
 "nbformat": 4,
 "nbformat_minor": 4
}
